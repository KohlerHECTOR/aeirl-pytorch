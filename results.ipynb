{
 "cells": [
  {
   "cell_type": "code",
   "execution_count": 1,
   "metadata": {},
   "outputs": [],
   "source": [
    "import pickle\n",
    "\n",
    "import numpy as np\n",
    "import matplotlib.pyplot as plt"
   ]
  },
  {
   "cell_type": "code",
   "execution_count": 5,
   "metadata": {},
   "outputs": [
    {
     "data": {
      "image/png": "[encoded data removed]",
      "text/plain": [
       "<Figure size 1080x360 with 1 Axes>"
      ]
     },
     "metadata": {},
     "output_type": "display_data"
    }
   ],
   "source": [
    "ckpt_path_list = [\n",
    "    \".ckpts/CartPole-v1-0/\",\n",
    "]\n",
    "label_list = [\n",
    "    \"Lambda = 0\",\n",
    "]\n",
    "\n",
    "plt.figure(figsize=[15, 5], facecolor=\"white\")\n",
    "exp_results = []\n",
    "for i, ckpt_path in enumerate(ckpt_path_list):\n",
    "    results = []\n",
    "    for j in range(3):\n",
    "        with open(ckpt_path + \"results_%i.pkl\" % j, \"rb\") as f:\n",
    "            exp_result, result = pickle.load(f)\n",
    "            exp_results.append(exp_result)\n",
    "            results.append(result)\n",
    "    \n",
    "    results = np.array(results)\n",
    "    \n",
    "    plt.plot(range(1, results.shape[1] + 1), np.mean(results, axis=0), label=label_list[i])\n",
    "    plt.fill_between(\n",
    "        range(1, results.shape[1] + 1),\n",
    "        np.mean(results, axis=0) - np.std(results, axis=0),\n",
    "        np.mean(results, axis=0) + np.std(results, axis=0),\n",
    "        alpha=.2\n",
    "    )\n",
    "plt.plot(range(1, results.shape[1] + 1), results.shape[1] * [np.mean(exp_results)], label=\"Expert\", color=\"black\")\n",
    "\n",
    "plt.grid()\n",
    "plt.legend(loc='best')\n",
    "plt.show()"
   ]
  },
  {
   "cell_type": "code",
   "execution_count": 6,
   "metadata": {},
   "outputs": [
    {
     "data": {
      "text/plain": [
       "array([[500., 500., 500., 500., 500., 500., 500., 500., 500., 500., 500.,\n",
       "        500., 500., 500., 500., 500., 500., 500., 500., 500., 500., 500.,\n",
       "        500., 500., 500., 500., 500., 500., 500., 500., 500., 500., 500.,\n",
       "        500., 500., 500., 500., 500., 500., 500., 500., 500., 500., 500.,\n",
       "        500., 500., 500., 500., 500., 500., 500., 500., 500., 500., 500.,\n",
       "        500., 500., 500., 500., 500., 500., 500., 500., 500., 500., 500.,\n",
       "        500., 500., 500., 500., 500., 500., 500., 500., 500., 500., 500.,\n",
       "        500., 500., 500., 500., 500., 500., 500., 500., 500., 500., 500.,\n",
       "        500., 500., 500., 500., 500., 500., 500., 500., 500., 500., 500.,\n",
       "        500., 500., 500., 500., 500., 500., 500., 500., 500., 500., 500.,\n",
       "        500., 500., 500., 500., 500., 500., 500., 500., 500., 500., 500.,\n",
       "        500., 500., 500., 500., 500., 500., 500., 500., 500., 500., 500.,\n",
       "        500., 500., 500., 500., 500., 500., 500., 500., 500., 500., 500.,\n",
       "        500., 500., 500., 500., 500., 500., 500., 500., 500., 500., 500.,\n",
       "        500., 500., 500., 500., 500., 500., 500., 500., 500., 500., 500.,\n",
       "        500., 500., 500., 500., 500., 500., 500., 500., 500., 500., 500.,\n",
       "        500., 500., 500., 500., 500., 500., 500., 500., 500., 500., 500.,\n",
       "        500., 500., 500., 500., 500., 500., 500., 500., 500., 500., 500.,\n",
       "        500., 500.],\n",
       "       [500., 500., 500., 500., 500., 500., 500., 500., 500., 500., 500.,\n",
       "        500., 500., 500., 500., 500., 500., 500., 500., 500., 500., 500.,\n",
       "        500., 500., 500., 500., 500., 500., 500., 500., 500., 500., 500.,\n",
       "        500., 500., 500., 500., 500., 500., 500., 500., 500., 500., 500.,\n",
       "        500., 500., 500., 500., 500., 500., 500., 500., 500., 500., 500.,\n",
       "        500., 500., 500., 500., 500., 500., 500., 500., 500., 500., 500.,\n",
       "        500., 500., 500., 500., 500., 500., 500., 500., 500., 500., 500.,\n",
       "        500., 500., 500., 500., 500., 500., 500., 500., 500., 500., 500.,\n",
       "        500., 500., 500., 500., 500., 500., 500., 500., 500., 500., 500.,\n",
       "        500., 500., 500., 500., 500., 500., 500., 500., 500., 500., 500.,\n",
       "        500., 500., 500., 500., 500., 500., 500., 500., 500., 500., 500.,\n",
       "        500., 500., 500., 500., 500., 500., 500., 500., 500., 500., 500.,\n",
       "        500., 500., 500., 500., 500., 500., 500., 500., 500., 500., 500.,\n",
       "        500., 500., 500., 500., 500., 500., 500., 500., 500., 500., 500.,\n",
       "        500., 500., 500., 500., 500., 500., 500., 500., 500., 500., 500.,\n",
       "        500., 500., 500., 500., 500., 500., 500., 500., 500., 500., 500.,\n",
       "        500., 500., 500., 500., 500., 500., 500., 500., 500., 500., 500.,\n",
       "        500., 500., 500., 500., 500., 500., 500., 500., 500., 500., 500.,\n",
       "        500., 500.],\n",
       "       [500., 500., 500., 500., 500., 500., 500., 500., 500., 500., 500.,\n",
       "        500., 500., 500., 500., 500., 500., 500., 500., 500., 500., 500.,\n",
       "        500., 500., 500., 500., 500., 500., 500., 500., 500., 500., 500.,\n",
       "        500., 500., 500., 500., 500., 500., 500., 500., 500., 500., 500.,\n",
       "        500., 500., 500., 500., 500., 500., 500., 500., 500., 500., 500.,\n",
       "        500., 500., 500., 500., 500., 500., 500., 500., 500., 500., 500.,\n",
       "        500., 500., 500., 500., 500., 500., 500., 500., 500., 500., 500.,\n",
       "        500., 500., 500., 500., 500., 500., 500., 500., 500., 500., 500.,\n",
       "        500., 500., 500., 500., 500., 500., 500., 500., 500., 500., 500.,\n",
       "        500., 500., 500., 500., 500., 500., 500., 500., 500., 500., 500.,\n",
       "        500., 500., 500., 500., 500., 500., 500., 500., 500., 500., 500.,\n",
       "        500., 500., 500., 500., 500., 500., 500., 500., 500., 500., 500.,\n",
       "        500., 500., 500., 500., 500., 500., 500., 500., 500., 500., 500.,\n",
       "        500., 500., 500., 500., 500., 500., 500., 500., 500., 500., 500.,\n",
       "        500., 500., 500., 500., 500., 500., 500., 500., 500., 500., 500.,\n",
       "        500., 500., 500., 500., 500., 500., 500., 500., 500., 500., 500.,\n",
       "        500., 500., 500., 500., 500., 500., 500., 500., 500., 500., 500.,\n",
       "        500., 500., 500., 500., 500., 500., 500., 500., 500., 500., 500.,\n",
       "        500., 500.]])"
      ]
     },
     "execution_count": 6,
     "metadata": {},
     "output_type": "execute_result"
    }
   ],
   "source": [
    "results"
   ]
  }
 ],
 "metadata": {
  "kernelspec": {
   "display_name": "Python 3",
   "language": "python",
   "name": "python3"
  },
  "language_info": {
   "codemirror_mode": {
    "name": "ipython",
    "version": 3
   },
   "file_extension": ".py",
   "mimetype": "text/x-python",
   "name": "python",
   "nbconvert_exporter": "python",
   "pygments_lexer": "ipython3",
   "version": "3.7.7"
  }
 },
 "nbformat": 4,
 "nbformat_minor": 4
}
